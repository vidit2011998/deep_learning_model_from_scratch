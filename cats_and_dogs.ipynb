{
  "nbformat": 4,
  "nbformat_minor": 0,
  "metadata": {
    "colab": {
      "name": "Kaggle cats and dogs",
      "version": "0.3.2",
      "provenance": [],
      "collapsed_sections": []
    },
    "kernelspec": {
      "name": "python3",
      "display_name": "Python 3"
    },
    "accelerator": "GPU"
  },
  "cells": [
    {
      "cell_type": "markdown",
      "metadata": {
        "id": "5AkFrDhGdnHp",
        "colab_type": "text"
      },
      "source": [
        "**Challenge**: https://www.kaggle.com/c/dogs-vs-cats/\n",
        "\n",
        "\n",
        "**Dataset**: https://storage.googleapis.com/mledu-datasets/cats_and_dogs_filtered.zip"
      ]
    },
    {
      "cell_type": "code",
      "metadata": {
        "id": "LiXGjpa01Viu",
        "colab_type": "code",
        "outputId": "94044b47-de52-4595-bd93-a00d20a83bfd",
        "colab": {
          "base_uri": "https://localhost:8080/",
          "height": 300
        }
      },
      "source": [
        "!wget --no-check-certificate \\\n",
        "  https://storage.googleapis.com/mledu-datasets/cats_and_dogs_filtered.zip \\\n",
        "  -O /tmp/cats_and_dogs_filtered.zip"
      ],
      "execution_count": 1,
      "outputs": [
        {
          "output_type": "stream",
          "text": [
            "--2019-06-18 11:54:18--  https://storage.googleapis.com/mledu-datasets/cats_and_dogs_filtered.zip\n",
            "Resolving storage.googleapis.com (storage.googleapis.com)... 108.177.112.128, 2607:f8b0:4001:c05::80\n",
            "Connecting to storage.googleapis.com (storage.googleapis.com)|108.177.112.128|:443... connected.\n",
            "HTTP request sent, awaiting response... 200 OK\n",
            "Length: 68606236 (65M) [application/zip]\n",
            "Saving to: ‘/tmp/cats_and_dogs_filtered.zip’\n",
            "\n",
            "\r          /tmp/cats   0%[                    ]       0  --.-KB/s               \r         /tmp/cats_  35%[======>             ]  23.52M   118MB/s               \r/tmp/cats_and_dogs_ 100%[===================>]  65.43M   190MB/s    in 0.3s    \n",
            "\n",
            "2019-06-18 11:54:19 (190 MB/s) - ‘/tmp/cats_and_dogs_filtered.zip’ saved [68606236/68606236]\n",
            "\n"
          ],
          "name": "stdout"
        }
      ]
    },
    {
      "cell_type": "code",
      "metadata": {
        "id": "BdYgIAPc2fSZ",
        "colab_type": "code",
        "outputId": "61bb2f50-1d17-4def-8d4a-bfffa6bbcb09",
        "colab": {
          "base_uri": "https://localhost:8080/",
          "height": 76
        }
      },
      "source": [
        "import os\n",
        "import zipfile\n",
        "\n",
        "local_zip='/tmp/cats_and_dogs_filtered.zip'\n",
        "zip_ref=zipfile.ZipFile(local_zip,'r')\n",
        "zip_ref.extractall('/tmp')\n",
        "zip_ref.close()\n",
        "os.listdir('/tmp')"
      ],
      "execution_count": 2,
      "outputs": [
        {
          "output_type": "execute_result",
          "data": {
            "text/plain": [
              "['cats_and_dogs_filtered.zip', 'cats_and_dogs_filtered']"
            ]
          },
          "metadata": {
            "tags": []
          },
          "execution_count": 2
        }
      ]
    },
    {
      "cell_type": "code",
      "metadata": {
        "id": "qaFVZ5AJ3QMt",
        "colab_type": "code",
        "colab": {}
      },
      "source": [
        "base_dir='/tmp/cats_and_dogs_filtered'\n",
        "\n",
        "#training and validation directory\n",
        "train_dir=os.path.join(base_dir,'train')\n",
        "validation_dir=os.path.join(base_dir,'validation')\n",
        "\n",
        "#training directory\n",
        "train_cats_dir=os.path.join(train_dir,'cats')\n",
        "train_dogs_dir=os.path.join(train_dir,'dogs')\n",
        "\n",
        "#validation directory\n",
        "validation_cats_dir = os.path.join(validation_dir, 'cats')\n",
        "validation_dogs_dir = os.path.join(validation_dir, 'dogs')"
      ],
      "execution_count": 0,
      "outputs": []
    },
    {
      "cell_type": "code",
      "metadata": {
        "id": "iPiw1y_p4XhJ",
        "colab_type": "code",
        "outputId": "aef2bfc1-f4f6-45ee-838a-7103064a5ac6",
        "colab": {
          "base_uri": "https://localhost:8080/",
          "height": 164
        }
      },
      "source": [
        "train_cat_fnames=os.listdir(train_cats_dir)\n",
        "train_dog_fnames=os.listdir(train_dogs_dir)\n",
        "\n",
        "print(train_cat_fnames[:10])\n",
        "print(train_dog_fnames[:10])\n",
        "\n",
        "\n",
        "print('Total training cat images.   ',len(os.listdir(train_cats_dir)))\n",
        "print('Total training dog images.   ',len(os.listdir(train_dogs_dir)))\n",
        "\n",
        "print('Total Validation cat images.   ',len(os.listdir(validation_cats_dir)))\n",
        "print('Total Validation dog images.   ',len(os.listdir(validation_dogs_dir)))"
      ],
      "execution_count": 4,
      "outputs": [
        {
          "output_type": "stream",
          "text": [
            "['cat.239.jpg', 'cat.680.jpg', 'cat.279.jpg', 'cat.847.jpg', 'cat.170.jpg', 'cat.937.jpg', 'cat.692.jpg', 'cat.831.jpg', 'cat.850.jpg', 'cat.54.jpg']\n",
            "['dog.514.jpg', 'dog.192.jpg', 'dog.504.jpg', 'dog.607.jpg', 'dog.152.jpg', 'dog.860.jpg', 'dog.454.jpg', 'dog.522.jpg', 'dog.32.jpg', 'dog.784.jpg']\n",
            "Total training cat images.    1000\n",
            "Total training dog images.    1000\n",
            "Total Validation cat images.    500\n",
            "Total Validation dog images.    500\n"
          ],
          "name": "stdout"
        }
      ]
    },
    {
      "cell_type": "code",
      "metadata": {
        "id": "yIDqAYXs-nxX",
        "colab_type": "code",
        "colab": {
          "base_uri": "https://localhost:8080/",
          "height": 148
        },
        "outputId": "ab4d7484-1b0c-43d3-eb8d-14efaec77e5e"
      },
      "source": [
        "import tensorflow as tf\n",
        "model = tf.keras.models.Sequential([\n",
        "    # Note the input shape is the desired size of the image 150x150 with 3 bytes color\n",
        "    tf.keras.layers.Conv2D(16, (3,3), activation='relu', input_shape=(150, 150, 3)),\n",
        "    tf.keras.layers.MaxPooling2D(2,2),\n",
        "    tf.keras.layers.Conv2D(32, (3,3), activation='relu'),\n",
        "    tf.keras.layers.MaxPooling2D(2,2), \n",
        "    tf.keras.layers.Conv2D(64, (3,3), activation='relu'), \n",
        "    tf.keras.layers.MaxPooling2D(2,2),\n",
        "    # Flatten the results to feed into a DNN\n",
        "    tf.keras.layers.Flatten(), \n",
        "    # 512 neuron hidden layer\n",
        "    tf.keras.layers.Dense(512, activation='relu'), \n",
        "    # Only 1 output neuron. It will contain a value from 0-1 where 0 for 1 class ('cats') and 1 for the other ('dogs')\n",
        "    tf.keras.layers.Dense(1, activation='sigmoid')  \n",
        "])"
      ],
      "execution_count": 7,
      "outputs": [
        {
          "output_type": "stream",
          "text": [
            "WARNING: Logging before flag parsing goes to stderr.\n",
            "W0618 11:56:04.382916 139673257736064 deprecation.py:506] From /usr/local/lib/python3.6/dist-packages/tensorflow/python/ops/init_ops.py:1251: calling VarianceScaling.__init__ (from tensorflow.python.ops.init_ops) with dtype is deprecated and will be removed in a future version.\n",
            "Instructions for updating:\n",
            "Call initializer instance with the dtype argument instead of passing it to the constructor\n"
          ],
          "name": "stderr"
        }
      ]
    },
    {
      "cell_type": "code",
      "metadata": {
        "id": "Z2lIYdm14ekN",
        "colab_type": "code",
        "colab": {
          "base_uri": "https://localhost:8080/",
          "height": 516
        },
        "outputId": "9b7934bd-f7aa-4911-cc8b-99c8f19151f8"
      },
      "source": [
        "model.summary()"
      ],
      "execution_count": 8,
      "outputs": [
        {
          "output_type": "stream",
          "text": [
            "Model: \"sequential\"\n",
            "_________________________________________________________________\n",
            "Layer (type)                 Output Shape              Param #   \n",
            "=================================================================\n",
            "conv2d (Conv2D)              (None, 148, 148, 16)      448       \n",
            "_________________________________________________________________\n",
            "max_pooling2d (MaxPooling2D) (None, 74, 74, 16)        0         \n",
            "_________________________________________________________________\n",
            "conv2d_1 (Conv2D)            (None, 72, 72, 32)        4640      \n",
            "_________________________________________________________________\n",
            "max_pooling2d_1 (MaxPooling2 (None, 36, 36, 32)        0         \n",
            "_________________________________________________________________\n",
            "conv2d_2 (Conv2D)            (None, 34, 34, 64)        18496     \n",
            "_________________________________________________________________\n",
            "max_pooling2d_2 (MaxPooling2 (None, 17, 17, 64)        0         \n",
            "_________________________________________________________________\n",
            "flatten (Flatten)            (None, 18496)             0         \n",
            "_________________________________________________________________\n",
            "dense (Dense)                (None, 512)               9470464   \n",
            "_________________________________________________________________\n",
            "dense_1 (Dense)              (None, 1)                 513       \n",
            "=================================================================\n",
            "Total params: 9,494,561\n",
            "Trainable params: 9,494,561\n",
            "Non-trainable params: 0\n",
            "_________________________________________________________________\n"
          ],
          "name": "stdout"
        }
      ]
    },
    {
      "cell_type": "code",
      "metadata": {
        "id": "CL0pC8gEcdiu",
        "colab_type": "code",
        "colab": {
          "base_uri": "https://localhost:8080/",
          "height": 111
        },
        "outputId": "2bfa35ca-23df-4dcf-f3ad-b8879076600e"
      },
      "source": [
        "from tensorflow.keras.optimizers import RMSprop\n",
        "\n",
        "model.compile(optimizer=RMSprop(lr=0.001),\n",
        "              loss='binary_crossentropy',\n",
        "              metrics = ['acc'])"
      ],
      "execution_count": 9,
      "outputs": [
        {
          "output_type": "stream",
          "text": [
            "W0618 11:56:27.007203 139673257736064 deprecation.py:323] From /usr/local/lib/python3.6/dist-packages/tensorflow/python/ops/nn_impl.py:180: add_dispatch_support.<locals>.wrapper (from tensorflow.python.ops.array_ops) is deprecated and will be removed in a future version.\n",
            "Instructions for updating:\n",
            "Use tf.where in 2.0, which has the same broadcast rule as np.where\n"
          ],
          "name": "stderr"
        }
      ]
    },
    {
      "cell_type": "code",
      "metadata": {
        "id": "1mtnyUVicqCH",
        "colab_type": "code",
        "colab": {
          "base_uri": "https://localhost:8080/",
          "height": 92
        },
        "outputId": "4478a068-dd50-4d22-fe78-06b779392cd5"
      },
      "source": [
        "from tensorflow.keras.preprocessing.image import ImageDataGenerator\n",
        "\n",
        "# All images will be rescaled here\n",
        "train_datagen = ImageDataGenerator( rescale = 1.0/255. )\n",
        "test_datagen  = ImageDataGenerator( rescale = 1.0/255. )\n",
        "\n",
        "train_generator = train_datagen.flow_from_directory(train_dir,\n",
        "                                                    batch_size=20,\n",
        "                                                    class_mode='binary',\n",
        "                                                    target_size=(150, 150))     \n",
        "\n",
        "validation_generator =  test_datagen.flow_from_directory(validation_dir,\n",
        "                                                         batch_size=20,\n",
        "                                                         class_mode  = 'binary',\n",
        "                                                         target_size = (150, 150))"
      ],
      "execution_count": 10,
      "outputs": [
        {
          "output_type": "stream",
          "text": [
            "Found 2000 images belonging to 2 classes.\n",
            "Found 1000 images belonging to 2 classes.\n"
          ],
          "name": "stdout"
        }
      ]
    },
    {
      "cell_type": "code",
      "metadata": {
        "id": "UmNnWFBiczWi",
        "colab_type": "code",
        "colab": {
          "base_uri": "https://localhost:8080/",
          "height": 676
        },
        "outputId": "05a4f21f-16a8-4e86-fc41-cef17350f1d5"
      },
      "source": [
        "history = model.fit_generator(train_generator,\n",
        "                              validation_data=validation_generator,\n",
        "                              steps_per_epoch=100,\n",
        "                              epochs=15,\n",
        "                              validation_steps=50,\n",
        "                              verbose=2)"
      ],
      "execution_count": 11,
      "outputs": [
        {
          "output_type": "stream",
          "text": [
            "Epoch 1/15\n",
            "100/100 - 12s - loss: 0.8861 - acc: 0.5550 - val_loss: 0.7645 - val_acc: 0.5070\n",
            "Epoch 2/15\n",
            "100/100 - 7s - loss: 0.6476 - acc: 0.6400 - val_loss: 0.6757 - val_acc: 0.6310\n",
            "Epoch 3/15\n",
            "100/100 - 7s - loss: 0.5653 - acc: 0.7170 - val_loss: 0.6648 - val_acc: 0.6250\n",
            "Epoch 4/15\n",
            "100/100 - 7s - loss: 0.4878 - acc: 0.7575 - val_loss: 0.6150 - val_acc: 0.6740\n",
            "Epoch 5/15\n",
            "100/100 - 7s - loss: 0.4107 - acc: 0.8165 - val_loss: 0.5971 - val_acc: 0.6780\n",
            "Epoch 6/15\n",
            "100/100 - 7s - loss: 0.3143 - acc: 0.8655 - val_loss: 0.7010 - val_acc: 0.6890\n",
            "Epoch 7/15\n",
            "100/100 - 7s - loss: 0.2294 - acc: 0.9035 - val_loss: 1.0275 - val_acc: 0.6600\n",
            "Epoch 8/15\n",
            "100/100 - 7s - loss: 0.1845 - acc: 0.9245 - val_loss: 0.9079 - val_acc: 0.6960\n",
            "Epoch 9/15\n",
            "100/100 - 7s - loss: 0.1082 - acc: 0.9595 - val_loss: 1.0876 - val_acc: 0.7100\n",
            "Epoch 10/15\n",
            "100/100 - 7s - loss: 0.0950 - acc: 0.9685 - val_loss: 1.1713 - val_acc: 0.7090\n",
            "Epoch 11/15\n",
            "100/100 - 7s - loss: 0.0645 - acc: 0.9805 - val_loss: 1.4749 - val_acc: 0.7150\n",
            "Epoch 12/15\n",
            "100/100 - 7s - loss: 0.0575 - acc: 0.9860 - val_loss: 1.5947 - val_acc: 0.7220\n",
            "Epoch 13/15\n",
            "100/100 - 7s - loss: 0.0635 - acc: 0.9865 - val_loss: 1.5660 - val_acc: 0.7070\n",
            "Epoch 14/15\n",
            "100/100 - 7s - loss: 0.0425 - acc: 0.9865 - val_loss: 1.9122 - val_acc: 0.7070\n",
            "Epoch 15/15\n",
            "100/100 - 7s - loss: 0.0352 - acc: 0.9900 - val_loss: 1.8418 - val_acc: 0.6910\n"
          ],
          "name": "stdout"
        }
      ]
    },
    {
      "cell_type": "code",
      "metadata": {
        "id": "crFblc9IdQAM",
        "colab_type": "code",
        "colab": {
          "base_uri": "https://localhost:8080/",
          "height": 583
        },
        "outputId": "4bb89e57-3aa0-4ac3-e423-c27e820586dd"
      },
      "source": [
        "#-----------------------------------------------------------\n",
        "# Retrieve a list of list results on training and test data\n",
        "# sets for each training epoch\n",
        "#-----------------------------------------------------------\n",
        "acc      = history.history[     'acc' ]\n",
        "val_acc  = history.history[ 'val_acc' ]\n",
        "loss     = history.history[    'loss' ]\n",
        "val_loss = history.history['val_loss' ]\n",
        "\n",
        "epochs   = range(len(acc)) # Get number of epochs\n",
        "\n",
        "\n",
        "# Plot training and validation accuracy per epoch\n",
        "plt.plot  ( epochs,     acc )\n",
        "plt.plot  ( epochs, val_acc )\n",
        "plt.title ('Training and validation accuracy')\n",
        "plt.figure()\n",
        "\n",
        "# Plot training and validation loss per epoch\n",
        "plt.plot  ( epochs,     loss )\n",
        "plt.plot  ( epochs, val_loss )\n",
        "plt.title ('Training and validation loss'   )"
      ],
      "execution_count": 12,
      "outputs": [
        {
          "output_type": "execute_result",
          "data": {
            "text/plain": [
              "Text(0.5, 1.0, 'Training and validation loss')"
            ]
          },
          "metadata": {
            "tags": []
          },
          "execution_count": 12
        },
        {
          "output_type": "display_data",
          "data": {
            "image/png": "[encoded data removed]",
            "text/plain": [
              "<Figure size 432x288 with 1 Axes>"
            ]
          },
          "metadata": {
            "tags": []
          }
        },
        {
          "output_type": "display_data",
          "data": {
            "image/png": "[encoded data removed]",
            "text/plain": [
              "<Figure size 432x288 with 1 Axes>"
            ]
          },
          "metadata": {
            "tags": []
          }
        }
      ]
    }
  ]
}